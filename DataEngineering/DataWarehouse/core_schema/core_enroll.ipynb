{
 "cells": [
  {
   "cell_type": "code",
   "execution_count": 26,
   "metadata": {},
   "outputs": [],
   "source": [
    "import pandas as pd"
   ]
  },
  {
   "cell_type": "code",
   "execution_count": 27,
   "metadata": {},
   "outputs": [
    {
     "data": {
      "text/html": [
       "<div>\n",
       "<style scoped>\n",
       "    .dataframe tbody tr th:only-of-type {\n",
       "        vertical-align: middle;\n",
       "    }\n",
       "\n",
       "    .dataframe tbody tr th {\n",
       "        vertical-align: top;\n",
       "    }\n",
       "\n",
       "    .dataframe thead th {\n",
       "        text-align: right;\n",
       "    }\n",
       "</style>\n",
       "<table border=\"1\" class=\"dataframe\">\n",
       "  <thead>\n",
       "    <tr style=\"text-align: right;\">\n",
       "      <th></th>\n",
       "      <th>enrollment_id</th>\n",
       "      <th>employee_id</th>\n",
       "      <th>course_id</th>\n",
       "      <th>enrolled_date</th>\n",
       "      <th>completed_date</th>\n",
       "      <th>progress</th>\n",
       "      <th>ratings</th>\n",
       "      <th>feedback</th>\n",
       "    </tr>\n",
       "  </thead>\n",
       "  <tbody>\n",
       "    <tr>\n",
       "      <th>0</th>\n",
       "      <td>1</td>\n",
       "      <td>255</td>\n",
       "      <td>5</td>\n",
       "      <td>2024-08-29</td>\n",
       "      <td>2024-10-07</td>\n",
       "      <td>59</td>\n",
       "      <td>1.7</td>\n",
       "      <td>I would not recommend this course.</td>\n",
       "    </tr>\n",
       "    <tr>\n",
       "      <th>1</th>\n",
       "      <td>2</td>\n",
       "      <td>391</td>\n",
       "      <td>4</td>\n",
       "      <td>2024-05-11</td>\n",
       "      <td>2024-09-26</td>\n",
       "      <td>0</td>\n",
       "      <td>4.8</td>\n",
       "      <td>The materials provided were very helpful.</td>\n",
       "    </tr>\n",
       "    <tr>\n",
       "      <th>2</th>\n",
       "      <td>3</td>\n",
       "      <td>384</td>\n",
       "      <td>3</td>\n",
       "      <td>2023-01-11</td>\n",
       "      <td>2023-03-13</td>\n",
       "      <td>83</td>\n",
       "      <td>3.0</td>\n",
       "      <td>The course met my expectations.</td>\n",
       "    </tr>\n",
       "    <tr>\n",
       "      <th>3</th>\n",
       "      <td>4</td>\n",
       "      <td>141</td>\n",
       "      <td>8</td>\n",
       "      <td>2023-07-09</td>\n",
       "      <td>2023-08-21</td>\n",
       "      <td>59</td>\n",
       "      <td>3.8</td>\n",
       "      <td>Not much to say, it was a standard course.</td>\n",
       "    </tr>\n",
       "    <tr>\n",
       "      <th>4</th>\n",
       "      <td>5</td>\n",
       "      <td>163</td>\n",
       "      <td>5</td>\n",
       "      <td>2022-12-29</td>\n",
       "      <td>2023-02-25</td>\n",
       "      <td>64</td>\n",
       "      <td>3.5</td>\n",
       "      <td>Not much to say, it was a standard course.</td>\n",
       "    </tr>\n",
       "  </tbody>\n",
       "</table>\n",
       "</div>"
      ],
      "text/plain": [
       "   enrollment_id  employee_id  course_id enrolled_date completed_date  \\\n",
       "0              1          255          5    2024-08-29     2024-10-07   \n",
       "1              2          391          4    2024-05-11     2024-09-26   \n",
       "2              3          384          3    2023-01-11     2023-03-13   \n",
       "3              4          141          8    2023-07-09     2023-08-21   \n",
       "4              5          163          5    2022-12-29     2023-02-25   \n",
       "\n",
       "   progress  ratings                                    feedback  \n",
       "0        59      1.7          I would not recommend this course.  \n",
       "1         0      4.8   The materials provided were very helpful.  \n",
       "2        83      3.0             The course met my expectations.  \n",
       "3        59      3.8  Not much to say, it was a standard course.  \n",
       "4        64      3.5  Not much to say, it was a standard course.  "
      ]
     },
     "execution_count": 27,
     "metadata": {},
     "output_type": "execute_result"
    }
   ],
   "source": [
    "file_path = r'C:\\Users\\SanthoshS\\Desktop\\DataEngineering\\DataWarehouse\\prep_schema\\prep_enroll.csv'\n",
    "enroll = pd.read_csv(file_path)\n",
    "enroll.head()"
   ]
  },
  {
   "cell_type": "code",
   "execution_count": 28,
   "metadata": {},
   "outputs": [
    {
     "data": {
      "text/plain": [
       "0            I would not recommend this course.\n",
       "1     The materials provided were very helpful.\n",
       "2               The course met my expectations.\n",
       "3    Not much to say, it was a standard course.\n",
       "4    Not much to say, it was a standard course.\n",
       "Name: feedback, dtype: object"
      ]
     },
     "execution_count": 28,
     "metadata": {},
     "output_type": "execute_result"
    }
   ],
   "source": [
    "enroll['feedback'].head()"
   ]
  },
  {
   "cell_type": "code",
   "execution_count": 29,
   "metadata": {},
   "outputs": [
    {
     "name": "stdout",
     "output_type": "stream",
     "text": [
      "       enrollment_id  employee_id  course_id enrolled_date completed_date  \\\n",
      "0                  1          255          5    2024-08-29     2024-10-07   \n",
      "1                  2          391          4    2024-05-11     2024-09-26   \n",
      "2                  3          384          3    2023-01-11     2023-03-13   \n",
      "3                  4          141          8    2023-07-09     2023-08-21   \n",
      "4                  5          163          5    2022-12-29     2023-02-25   \n",
      "...              ...          ...        ...           ...            ...   \n",
      "19995          19996          384         16    2023-09-22     2023-10-30   \n",
      "19996          19997          179         14    2023-02-17     2023-04-20   \n",
      "19997          19998          178         22    2024-06-11     2024-08-31   \n",
      "19998          19999          137         19    2023-06-17     2023-11-06   \n",
      "19999          20000          285         20    2023-05-19     2023-11-11   \n",
      "\n",
      "       progress  ratings                                    feedback  category  \n",
      "0            59      1.7          I would not recommend this course.   Neutral  \n",
      "1             0      4.8   The materials provided were very helpful.  Positive  \n",
      "2            83      3.0             The course met my expectations.   Neutral  \n",
      "3            59      3.8  Not much to say, it was a standard course.  Negative  \n",
      "4            64      3.5  Not much to say, it was a standard course.  Negative  \n",
      "...         ...      ...                                         ...       ...  \n",
      "19995        19      2.3     Not worth the time, very disappointing.  Negative  \n",
      "19996        65      3.6             The course met my expectations.   Neutral  \n",
      "19997        76      3.5    Average course with some useful content.  Positive  \n",
      "19998        22      1.7          I would not recommend this course.   Neutral  \n",
      "19999        76      4.0       Very informative and well structured.  Positive  \n",
      "\n",
      "[20000 rows x 9 columns]\n"
     ]
    }
   ],
   "source": [
    "import pandas as pd\n",
    "from textblob import TextBlob\n",
    "\n",
    "\n",
    "\n",
    "# Function to categorize feedback using TextBlob\n",
    "def categorize_feedback(feedback):\n",
    "    analysis = TextBlob(feedback)\n",
    "    # Classify based on polarity\n",
    "    if analysis.sentiment.polarity > 0:\n",
    "        return \"Positive\"\n",
    "    elif analysis.sentiment.polarity < 0:\n",
    "        return \"Negative\"\n",
    "    else:\n",
    "        return \"Neutral\"\n",
    "\n",
    "# Apply categorization\n",
    "enroll['category'] = enroll['feedback'].apply(categorize_feedback)\n",
    "\n",
    "# Display the categorized feedback\n",
    "print(enroll)"
   ]
  },
  {
   "cell_type": "code",
   "execution_count": 30,
   "metadata": {},
   "outputs": [],
   "source": [
    "enroll.drop('feedback', axis=1, inplace=True)\n"
   ]
  },
  {
   "cell_type": "code",
   "execution_count": 31,
   "metadata": {},
   "outputs": [],
   "source": [
    "enroll.to_csv(\"fact_enroll.csv\", index=False)"
   ]
  },
  {
   "cell_type": "code",
   "execution_count": null,
   "metadata": {},
   "outputs": [],
   "source": []
  }
 ],
 "metadata": {
  "kernelspec": {
   "display_name": "Python 3",
   "language": "python",
   "name": "python3"
  },
  "language_info": {
   "codemirror_mode": {
    "name": "ipython",
    "version": 3
   },
   "file_extension": ".py",
   "mimetype": "text/x-python",
   "name": "python",
   "nbconvert_exporter": "python",
   "pygments_lexer": "ipython3",
   "version": "3.12.4"
  }
 },
 "nbformat": 4,
 "nbformat_minor": 2
}
