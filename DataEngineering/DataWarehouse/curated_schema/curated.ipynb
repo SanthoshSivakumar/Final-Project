{
 "cells": [
  {
   "cell_type": "code",
   "execution_count": 83,
   "metadata": {},
   "outputs": [],
   "source": [
    "import pandas as pd"
   ]
  },
  {
   "cell_type": "code",
   "execution_count": 84,
   "metadata": {},
   "outputs": [],
   "source": [
    "employee = r'C:\\Users\\SanthoshS\\Desktop\\DataEngineering\\DataWarehouse\\core_schema\\dim_employee.csv'\n",
    "course = r'C:\\Users\\SanthoshS\\Desktop\\DataEngineering\\DataWarehouse\\core_schema\\dim_course.csv'\n",
    "enroll = r'C:\\Users\\SanthoshS\\Desktop\\DataEngineering\\DataWarehouse\\core_schema\\fact_enroll.csv'"
   ]
  },
  {
   "cell_type": "code",
   "execution_count": 85,
   "metadata": {},
   "outputs": [],
   "source": [
    "employee = pd.read_csv(employee)\n",
    "course = pd.read_csv(course)\n",
    "enroll = pd.read_csv(enroll)"
   ]
  },
  {
   "cell_type": "code",
   "execution_count": 86,
   "metadata": {},
   "outputs": [
    {
     "data": {
      "text/plain": [
       "(500, 10)"
      ]
     },
     "execution_count": 86,
     "metadata": {},
     "output_type": "execute_result"
    }
   ],
   "source": [
    "employee.shape"
   ]
  },
  {
   "cell_type": "code",
   "execution_count": 87,
   "metadata": {},
   "outputs": [
    {
     "data": {
      "text/plain": [
       "(20000, 8)"
      ]
     },
     "execution_count": 87,
     "metadata": {},
     "output_type": "execute_result"
    }
   ],
   "source": [
    "enroll.shape"
   ]
  },
  {
   "cell_type": "code",
   "execution_count": 88,
   "metadata": {},
   "outputs": [
    {
     "data": {
      "text/plain": [
       "(500, 10)"
      ]
     },
     "execution_count": 88,
     "metadata": {},
     "output_type": "execute_result"
    }
   ],
   "source": [
    "employee.shape"
   ]
  },
  {
   "cell_type": "code",
   "execution_count": 95,
   "metadata": {},
   "outputs": [],
   "source": [
    "import pandas as pd\n",
    "\n",
    "# Assuming you already have the DataFrames: enroll, course, and employee\n",
    "\n",
    "# First left join with course DataFrame\n",
    "curated = enroll.merge(course, on='course_id', how='left')\n",
    "# Then left join with employee DataFrame\n",
    "curated = curated.merge(employee, on='employee_id', how='left')\n"
   ]
  },
  {
   "cell_type": "code",
   "execution_count": 90,
   "metadata": {},
   "outputs": [
    {
     "data": {
      "text/plain": [
       "enrollment_id       0\n",
       "employee_id         0\n",
       "course_id           0\n",
       "enrolled_date       0\n",
       "completed_date      0\n",
       "progress            0\n",
       "ratings             0\n",
       "category            0\n",
       "course_name         0\n",
       "course_duration     0\n",
       "price               0\n",
       "outcome_skill       0\n",
       "role_outcome        0\n",
       "employee_name       0\n",
       "current_role        0\n",
       "skills              0\n",
       "dateofbirth         0\n",
       "dateofjoining       0\n",
       "email               0\n",
       "mobile_number       0\n",
       "Address             0\n",
       "yearofexperience    0\n",
       "dtype: int64"
      ]
     },
     "execution_count": 90,
     "metadata": {},
     "output_type": "execute_result"
    }
   ],
   "source": [
    "curated.isna().sum()"
   ]
  },
  {
   "cell_type": "code",
   "execution_count": 91,
   "metadata": {},
   "outputs": [
    {
     "data": {
      "text/plain": [
       "enrollment_id         int64\n",
       "employee_id           int64\n",
       "course_id             int64\n",
       "enrolled_date        object\n",
       "completed_date       object\n",
       "progress              int64\n",
       "ratings             float64\n",
       "category             object\n",
       "course_name          object\n",
       "course_duration       int64\n",
       "price                 int64\n",
       "outcome_skill        object\n",
       "role_outcome         object\n",
       "employee_name        object\n",
       "current_role         object\n",
       "skills               object\n",
       "dateofbirth          object\n",
       "dateofjoining        object\n",
       "email                object\n",
       "mobile_number         int64\n",
       "Address              object\n",
       "yearofexperience      int64\n",
       "dtype: object"
      ]
     },
     "execution_count": 91,
     "metadata": {},
     "output_type": "execute_result"
    }
   ],
   "source": [
    "curated.dtypes"
   ]
  },
  {
   "cell_type": "code",
   "execution_count": 92,
   "metadata": {},
   "outputs": [
    {
     "name": "stdout",
     "output_type": "stream",
     "text": [
      "<class 'pandas.core.frame.DataFrame'>\n",
      "RangeIndex: 36812 entries, 0 to 36811\n",
      "Data columns (total 22 columns):\n",
      " #   Column            Non-Null Count  Dtype  \n",
      "---  ------            --------------  -----  \n",
      " 0   enrollment_id     36812 non-null  int64  \n",
      " 1   employee_id       36812 non-null  int64  \n",
      " 2   course_id         36812 non-null  int64  \n",
      " 3   enrolled_date     36812 non-null  object \n",
      " 4   completed_date    36812 non-null  object \n",
      " 5   progress          36812 non-null  int64  \n",
      " 6   ratings           36812 non-null  float64\n",
      " 7   category          36812 non-null  object \n",
      " 8   course_name       36812 non-null  object \n",
      " 9   course_duration   36812 non-null  int64  \n",
      " 10  price             36812 non-null  int64  \n",
      " 11  outcome_skill     36812 non-null  object \n",
      " 12  role_outcome      36812 non-null  object \n",
      " 13  employee_name     36812 non-null  object \n",
      " 14  current_role      36812 non-null  object \n",
      " 15  skills            36812 non-null  object \n",
      " 16  dateofbirth       36812 non-null  object \n",
      " 17  dateofjoining     36812 non-null  object \n",
      " 18  email             36812 non-null  object \n",
      " 19  mobile_number     36812 non-null  int64  \n",
      " 20  Address           36812 non-null  object \n",
      " 21  yearofexperience  36812 non-null  int64  \n",
      "dtypes: float64(1), int64(8), object(13)\n",
      "memory usage: 6.2+ MB\n"
     ]
    }
   ],
   "source": [
    "curated.info()"
   ]
  },
  {
   "cell_type": "code",
   "execution_count": 93,
   "metadata": {},
   "outputs": [
    {
     "data": {
      "text/plain": [
       "Index(['enrollment_id', 'employee_id', 'course_id', 'enrolled_date',\n",
       "       'completed_date', 'progress', 'ratings', 'category', 'course_name',\n",
       "       'course_duration', 'price', 'outcome_skill', 'role_outcome',\n",
       "       'employee_name', 'current_role', 'skills', 'dateofbirth',\n",
       "       'dateofjoining', 'email', 'mobile_number', 'Address',\n",
       "       'yearofexperience'],\n",
       "      dtype='object')"
      ]
     },
     "execution_count": 93,
     "metadata": {},
     "output_type": "execute_result"
    }
   ],
   "source": [
    "curated.columns"
   ]
  },
  {
   "cell_type": "code",
   "execution_count": 94,
   "metadata": {},
   "outputs": [],
   "source": [
    "curated.to_csv(\"curated.csv\",index=False)"
   ]
  },
  {
   "cell_type": "code",
   "execution_count": null,
   "metadata": {},
   "outputs": [],
   "source": []
  }
 ],
 "metadata": {
  "kernelspec": {
   "display_name": "Python 3",
   "language": "python",
   "name": "python3"
  },
  "language_info": {
   "codemirror_mode": {
    "name": "ipython",
    "version": 3
   },
   "file_extension": ".py",
   "mimetype": "text/x-python",
   "name": "python",
   "nbconvert_exporter": "python",
   "pygments_lexer": "ipython3",
   "version": "3.12.4"
  }
 },
 "nbformat": 4,
 "nbformat_minor": 2
}
