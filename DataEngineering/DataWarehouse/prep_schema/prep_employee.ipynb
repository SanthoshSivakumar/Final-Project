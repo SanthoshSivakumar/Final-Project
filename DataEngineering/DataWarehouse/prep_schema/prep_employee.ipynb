{
 "cells": [
  {
   "cell_type": "code",
   "execution_count": 57,
   "metadata": {},
   "outputs": [],
   "source": [
    "import numpy as np\n",
    "import pandas as pd\n",
    "from datetime import datetime"
   ]
  },
  {
   "cell_type": "code",
   "execution_count": 58,
   "metadata": {},
   "outputs": [
    {
     "data": {
      "text/html": [
       "<div>\n",
       "<style scoped>\n",
       "    .dataframe tbody tr th:only-of-type {\n",
       "        vertical-align: middle;\n",
       "    }\n",
       "\n",
       "    .dataframe tbody tr th {\n",
       "        vertical-align: top;\n",
       "    }\n",
       "\n",
       "    .dataframe thead th {\n",
       "        text-align: right;\n",
       "    }\n",
       "</style>\n",
       "<table border=\"1\" class=\"dataframe\">\n",
       "  <thead>\n",
       "    <tr style=\"text-align: right;\">\n",
       "      <th></th>\n",
       "      <th>employee_id</th>\n",
       "      <th>employee_name</th>\n",
       "      <th>current_role</th>\n",
       "      <th>skills</th>\n",
       "      <th>dateofbirth</th>\n",
       "      <th>dateofjoining</th>\n",
       "      <th>email</th>\n",
       "      <th>mobile_number</th>\n",
       "      <th>Address</th>\n",
       "    </tr>\n",
       "  </thead>\n",
       "  <tbody>\n",
       "    <tr>\n",
       "      <th>0</th>\n",
       "      <td>254</td>\n",
       "      <td>Brian Jackson</td>\n",
       "      <td>senior data engineer</td>\n",
       "      <td>Data Lakes</td>\n",
       "      <td>1960-03-19</td>\n",
       "      <td>2022-02-16</td>\n",
       "      <td>georgeangela@example.net</td>\n",
       "      <td>769.820.3225x835</td>\n",
       "      <td>715 Cunningham Forges Apt. 824, West Brandonsi...</td>\n",
       "    </tr>\n",
       "    <tr>\n",
       "      <th>1</th>\n",
       "      <td>219</td>\n",
       "      <td>Mark Nielsen</td>\n",
       "      <td>senior data scientist</td>\n",
       "      <td>Natural Language Processing</td>\n",
       "      <td>1985-06-05</td>\n",
       "      <td>2010-06-30</td>\n",
       "      <td>milesmary@example.org</td>\n",
       "      <td>7635554079</td>\n",
       "      <td>31583 Eric Mill Suite 677, Riveraton, OK 07085</td>\n",
       "    </tr>\n",
       "    <tr>\n",
       "      <th>2</th>\n",
       "      <td>134</td>\n",
       "      <td>David Anderson</td>\n",
       "      <td>junior data analyst</td>\n",
       "      <td>Excel</td>\n",
       "      <td>1992-01-14</td>\n",
       "      <td>2006-05-25</td>\n",
       "      <td>ajones@example.net</td>\n",
       "      <td>724.899.0763x041</td>\n",
       "      <td>PSC 4715, Box 9334, APO AA 03780</td>\n",
       "    </tr>\n",
       "    <tr>\n",
       "      <th>3</th>\n",
       "      <td>295</td>\n",
       "      <td>Tyler Allen</td>\n",
       "      <td>senior software engineer</td>\n",
       "      <td>DevOps</td>\n",
       "      <td>1965-09-24</td>\n",
       "      <td>2008-11-07</td>\n",
       "      <td>dianamontes@example.net</td>\n",
       "      <td>3927339776</td>\n",
       "      <td>2816 Stephen Island Suite 455, Sarahborough, S...</td>\n",
       "    </tr>\n",
       "    <tr>\n",
       "      <th>4</th>\n",
       "      <td>432</td>\n",
       "      <td>Trevor Torres</td>\n",
       "      <td>senior software engineer</td>\n",
       "      <td>DevOps</td>\n",
       "      <td>1972-03-03</td>\n",
       "      <td>2019-09-15</td>\n",
       "      <td>devon53@example.org</td>\n",
       "      <td>001-707-865-5738</td>\n",
       "      <td>742 Perez Stream Apt. 654, Rodriguezville, IN ...</td>\n",
       "    </tr>\n",
       "  </tbody>\n",
       "</table>\n",
       "</div>"
      ],
      "text/plain": [
       "   employee_id   employee_name              current_role  \\\n",
       "0          254   Brian Jackson      senior data engineer   \n",
       "1          219    Mark Nielsen     senior data scientist   \n",
       "2          134  David Anderson       junior data analyst   \n",
       "3          295     Tyler Allen  senior software engineer   \n",
       "4          432   Trevor Torres  senior software engineer   \n",
       "\n",
       "                        skills dateofbirth dateofjoining  \\\n",
       "0                   Data Lakes  1960-03-19    2022-02-16   \n",
       "1  Natural Language Processing  1985-06-05    2010-06-30   \n",
       "2                        Excel  1992-01-14    2006-05-25   \n",
       "3                       DevOps  1965-09-24    2008-11-07   \n",
       "4                       DevOps  1972-03-03    2019-09-15   \n",
       "\n",
       "                      email     mobile_number  \\\n",
       "0  georgeangela@example.net  769.820.3225x835   \n",
       "1     milesmary@example.org        7635554079   \n",
       "2        ajones@example.net  724.899.0763x041   \n",
       "3   dianamontes@example.net        3927339776   \n",
       "4       devon53@example.org  001-707-865-5738   \n",
       "\n",
       "                                             Address  \n",
       "0  715 Cunningham Forges Apt. 824, West Brandonsi...  \n",
       "1     31583 Eric Mill Suite 677, Riveraton, OK 07085  \n",
       "2                   PSC 4715, Box 9334, APO AA 03780  \n",
       "3  2816 Stephen Island Suite 455, Sarahborough, S...  \n",
       "4  742 Perez Stream Apt. 654, Rodriguezville, IN ...  "
      ]
     },
     "execution_count": 58,
     "metadata": {},
     "output_type": "execute_result"
    }
   ],
   "source": [
    "file_path = r'C:\\Users\\SanthoshS\\Desktop\\DataEngineering\\DataWarehouse\\raw_schema\\raw_employee.csv'\n",
    "employee = pd.read_csv(file_path)\n",
    "employee.head()"
   ]
  },
  {
   "cell_type": "markdown",
   "metadata": {},
   "source": [
    "# Data Cleaning"
   ]
  },
  {
   "cell_type": "markdown",
   "metadata": {},
   "source": [
    " Remove the duplicates"
   ]
  },
  {
   "cell_type": "code",
   "execution_count": 59,
   "metadata": {},
   "outputs": [
    {
     "name": "stdout",
     "output_type": "stream",
     "text": [
      "Columns in DataFrame: Index(['employee_id', 'employee_name', 'current_role', 'skills', 'dateofbirth',\n",
      "       'dateofjoining', 'email', 'mobile_number', 'Address'],\n",
      "      dtype='object')\n",
      "Count of 'employee_id' before dropping duplicates: 500\n",
      "Count of 'employee_id' after dropping duplicates: 500\n"
     ]
    }
   ],
   "source": [
    "# Print the column names to identify the correct name\n",
    "print(\"Columns in DataFrame:\", employee.columns)\n",
    "\n",
    "# Count the number of entries in the correct column before dropping duplicates\n",
    "print(\"Count of 'employee_id' before dropping duplicates:\", employee['employee_id'].count())\n",
    "\n",
    "# Drop duplicates based on all columns\n",
    "employee = employee.drop_duplicates()\n",
    "\n",
    "# Count the number of entries in the correct column after dropping duplicates\n",
    "print(\"Count of 'employee_id' after dropping duplicates:\", employee['employee_id'].count())\n"
   ]
  },
  {
   "cell_type": "markdown",
   "metadata": {},
   "source": [
    " To identify the null"
   ]
  },
  {
   "cell_type": "code",
   "execution_count": 60,
   "metadata": {},
   "outputs": [
    {
     "data": {
      "text/plain": [
       "employee_id      0\n",
       "employee_name    0\n",
       "current_role     0\n",
       "skills           0\n",
       "dateofbirth      0\n",
       "dateofjoining    0\n",
       "email            0\n",
       "mobile_number    0\n",
       "Address          0\n",
       "dtype: int64"
      ]
     },
     "execution_count": 60,
     "metadata": {},
     "output_type": "execute_result"
    }
   ],
   "source": [
    "employee.isnull().sum()"
   ]
  },
  {
   "cell_type": "markdown",
   "metadata": {},
   "source": [
    " Data type conversion"
   ]
  },
  {
   "cell_type": "code",
   "execution_count": 61,
   "metadata": {},
   "outputs": [
    {
     "data": {
      "text/plain": [
       "employee_id       int64\n",
       "employee_name    object\n",
       "current_role     object\n",
       "skills           object\n",
       "dateofbirth      object\n",
       "dateofjoining    object\n",
       "email            object\n",
       "mobile_number    object\n",
       "Address          object\n",
       "dtype: object"
      ]
     },
     "execution_count": 61,
     "metadata": {},
     "output_type": "execute_result"
    }
   ],
   "source": [
    "employee.dtypes"
   ]
  },
  {
   "cell_type": "code",
   "execution_count": 62,
   "metadata": {},
   "outputs": [
    {
     "data": {
      "text/plain": [
       "employee_id               int64\n",
       "employee_name            object\n",
       "current_role             object\n",
       "skills                   object\n",
       "dateofbirth      datetime64[ns]\n",
       "dateofjoining            object\n",
       "email                    object\n",
       "mobile_number            object\n",
       "Address                  object\n",
       "dtype: object"
      ]
     },
     "execution_count": 62,
     "metadata": {},
     "output_type": "execute_result"
    }
   ],
   "source": [
    "employee['dateofbirth'] = pd.to_datetime(employee['dateofbirth'])\n",
    "employee.dtypes"
   ]
  },
  {
   "cell_type": "code",
   "execution_count": 63,
   "metadata": {},
   "outputs": [
    {
     "data": {
      "text/plain": [
       "employee_id               int64\n",
       "employee_name            object\n",
       "current_role             object\n",
       "skills                   object\n",
       "dateofbirth      datetime64[ns]\n",
       "dateofjoining    datetime64[ns]\n",
       "email                    object\n",
       "mobile_number            object\n",
       "Address                  object\n",
       "dtype: object"
      ]
     },
     "execution_count": 63,
     "metadata": {},
     "output_type": "execute_result"
    }
   ],
   "source": [
    "employee['dateofjoining'] = pd.to_datetime(employee['dateofjoining'])\n",
    "employee.dtypes"
   ]
  },
  {
   "cell_type": "code",
   "execution_count": 64,
   "metadata": {},
   "outputs": [
    {
     "name": "stdout",
     "output_type": "stream",
     "text": [
      "\n",
      "Data Types After Conversion:\n",
      "employee_id               int64\n",
      "employee_name            object\n",
      "current_role             object\n",
      "skills                   object\n",
      "dateofbirth      datetime64[ns]\n",
      "dateofjoining    datetime64[ns]\n",
      "email                    object\n",
      "mobile_number             int64\n",
      "Address                  object\n",
      "dtype: object\n"
     ]
    }
   ],
   "source": [
    "employee['mobile_number'] = employee['mobile_number'].str.replace(r'\\D', '', regex=True)\n",
    "\n",
    "# Convert 'mobile_number' to numeric type, coercing errors\n",
    "employee['mobile_number'] = pd.to_numeric(employee['mobile_number'], errors='coerce')\n",
    "\n",
    "# Drop rows with NaN values in 'mobile_number' if any exist\n",
    "employee = employee.dropna(subset=['mobile_number'])\n",
    "\n",
    "# Convert to integer type\n",
    "employee['mobile_number'] = employee['mobile_number'].astype(int)\n",
    "\n",
    "# Check the data types after conversion\n",
    "print(\"\\nData Types After Conversion:\")\n",
    "print(employee.dtypes)"
   ]
  },
  {
   "cell_type": "markdown",
   "metadata": {},
   "source": [
    "## Data Transformation"
   ]
  },
  {
   "cell_type": "code",
   "execution_count": 65,
   "metadata": {},
   "outputs": [
    {
     "data": {
      "text/html": [
       "<div>\n",
       "<style scoped>\n",
       "    .dataframe tbody tr th:only-of-type {\n",
       "        vertical-align: middle;\n",
       "    }\n",
       "\n",
       "    .dataframe tbody tr th {\n",
       "        vertical-align: top;\n",
       "    }\n",
       "\n",
       "    .dataframe thead th {\n",
       "        text-align: right;\n",
       "    }\n",
       "</style>\n",
       "<table border=\"1\" class=\"dataframe\">\n",
       "  <thead>\n",
       "    <tr style=\"text-align: right;\">\n",
       "      <th></th>\n",
       "      <th>employee_id</th>\n",
       "      <th>employee_name</th>\n",
       "      <th>current_role</th>\n",
       "      <th>skills</th>\n",
       "      <th>dateofbirth</th>\n",
       "      <th>dateofjoining</th>\n",
       "      <th>email</th>\n",
       "      <th>mobile_number</th>\n",
       "      <th>Address</th>\n",
       "    </tr>\n",
       "  </thead>\n",
       "  <tbody>\n",
       "    <tr>\n",
       "      <th>0</th>\n",
       "      <td>254</td>\n",
       "      <td>Brian Jackson</td>\n",
       "      <td>senior data engineer</td>\n",
       "      <td>Data Lakes</td>\n",
       "      <td>1960-03-19</td>\n",
       "      <td>2022-02-16</td>\n",
       "      <td>georgeangela@example.net</td>\n",
       "      <td>7698203225835</td>\n",
       "      <td>715 Cunningham Forges Apt. 824, West Brandonsi...</td>\n",
       "    </tr>\n",
       "    <tr>\n",
       "      <th>1</th>\n",
       "      <td>219</td>\n",
       "      <td>Mark Nielsen</td>\n",
       "      <td>senior data scientist</td>\n",
       "      <td>Natural Language Processing</td>\n",
       "      <td>1985-06-05</td>\n",
       "      <td>2010-06-30</td>\n",
       "      <td>milesmary@example.org</td>\n",
       "      <td>7635554079</td>\n",
       "      <td>31583 Eric Mill Suite 677, Riveraton, OK 07085</td>\n",
       "    </tr>\n",
       "    <tr>\n",
       "      <th>2</th>\n",
       "      <td>134</td>\n",
       "      <td>David Anderson</td>\n",
       "      <td>junior data analyst</td>\n",
       "      <td>Excel</td>\n",
       "      <td>1992-01-14</td>\n",
       "      <td>2006-05-25</td>\n",
       "      <td>ajones@example.net</td>\n",
       "      <td>7248990763041</td>\n",
       "      <td>PSC 4715, Box 9334, APO AA 03780</td>\n",
       "    </tr>\n",
       "    <tr>\n",
       "      <th>3</th>\n",
       "      <td>295</td>\n",
       "      <td>Tyler Allen</td>\n",
       "      <td>senior software engineer</td>\n",
       "      <td>DevOps</td>\n",
       "      <td>1965-09-24</td>\n",
       "      <td>2008-11-07</td>\n",
       "      <td>dianamontes@example.net</td>\n",
       "      <td>3927339776</td>\n",
       "      <td>2816 Stephen Island Suite 455, Sarahborough, S...</td>\n",
       "    </tr>\n",
       "    <tr>\n",
       "      <th>4</th>\n",
       "      <td>432</td>\n",
       "      <td>Trevor Torres</td>\n",
       "      <td>senior software engineer</td>\n",
       "      <td>DevOps</td>\n",
       "      <td>1972-03-03</td>\n",
       "      <td>2019-09-15</td>\n",
       "      <td>devon53@example.org</td>\n",
       "      <td>17078655738</td>\n",
       "      <td>742 Perez Stream Apt. 654, Rodriguezville, IN ...</td>\n",
       "    </tr>\n",
       "  </tbody>\n",
       "</table>\n",
       "</div>"
      ],
      "text/plain": [
       "   employee_id   employee_name              current_role  \\\n",
       "0          254   Brian Jackson      senior data engineer   \n",
       "1          219    Mark Nielsen     senior data scientist   \n",
       "2          134  David Anderson       junior data analyst   \n",
       "3          295     Tyler Allen  senior software engineer   \n",
       "4          432   Trevor Torres  senior software engineer   \n",
       "\n",
       "                        skills dateofbirth dateofjoining  \\\n",
       "0                   Data Lakes  1960-03-19    2022-02-16   \n",
       "1  Natural Language Processing  1985-06-05    2010-06-30   \n",
       "2                        Excel  1992-01-14    2006-05-25   \n",
       "3                       DevOps  1965-09-24    2008-11-07   \n",
       "4                       DevOps  1972-03-03    2019-09-15   \n",
       "\n",
       "                      email  mobile_number  \\\n",
       "0  georgeangela@example.net  7698203225835   \n",
       "1     milesmary@example.org     7635554079   \n",
       "2        ajones@example.net  7248990763041   \n",
       "3   dianamontes@example.net     3927339776   \n",
       "4       devon53@example.org    17078655738   \n",
       "\n",
       "                                             Address  \n",
       "0  715 Cunningham Forges Apt. 824, West Brandonsi...  \n",
       "1     31583 Eric Mill Suite 677, Riveraton, OK 07085  \n",
       "2                   PSC 4715, Box 9334, APO AA 03780  \n",
       "3  2816 Stephen Island Suite 455, Sarahborough, S...  \n",
       "4  742 Perez Stream Apt. 654, Rodriguezville, IN ...  "
      ]
     },
     "execution_count": 65,
     "metadata": {},
     "output_type": "execute_result"
    }
   ],
   "source": [
    "employee.head()"
   ]
  },
  {
   "cell_type": "code",
   "execution_count": 66,
   "metadata": {},
   "outputs": [],
   "source": [
    "now = pd.Timestamp(datetime.now())\n",
    "\n",
    "# Calculate years of experience\n",
    "employee['yearofexperience'] = (now - employee['dateofjoining']).dt.days // 365"
   ]
  },
  {
   "cell_type": "code",
   "execution_count": 67,
   "metadata": {},
   "outputs": [
    {
     "data": {
      "text/html": [
       "<div>\n",
       "<style scoped>\n",
       "    .dataframe tbody tr th:only-of-type {\n",
       "        vertical-align: middle;\n",
       "    }\n",
       "\n",
       "    .dataframe tbody tr th {\n",
       "        vertical-align: top;\n",
       "    }\n",
       "\n",
       "    .dataframe thead th {\n",
       "        text-align: right;\n",
       "    }\n",
       "</style>\n",
       "<table border=\"1\" class=\"dataframe\">\n",
       "  <thead>\n",
       "    <tr style=\"text-align: right;\">\n",
       "      <th></th>\n",
       "      <th>employee_id</th>\n",
       "      <th>employee_name</th>\n",
       "      <th>current_role</th>\n",
       "      <th>skills</th>\n",
       "      <th>dateofbirth</th>\n",
       "      <th>dateofjoining</th>\n",
       "      <th>email</th>\n",
       "      <th>mobile_number</th>\n",
       "      <th>Address</th>\n",
       "      <th>yearofexperience</th>\n",
       "    </tr>\n",
       "  </thead>\n",
       "  <tbody>\n",
       "    <tr>\n",
       "      <th>0</th>\n",
       "      <td>254</td>\n",
       "      <td>Brian Jackson</td>\n",
       "      <td>senior data engineer</td>\n",
       "      <td>Data Lakes</td>\n",
       "      <td>1960-03-19</td>\n",
       "      <td>2022-02-16</td>\n",
       "      <td>georgeangela@example.net</td>\n",
       "      <td>7698203225835</td>\n",
       "      <td>715 Cunningham Forges Apt. 824, West Brandonsi...</td>\n",
       "      <td>2</td>\n",
       "    </tr>\n",
       "    <tr>\n",
       "      <th>1</th>\n",
       "      <td>219</td>\n",
       "      <td>Mark Nielsen</td>\n",
       "      <td>senior data scientist</td>\n",
       "      <td>Natural Language Processing</td>\n",
       "      <td>1985-06-05</td>\n",
       "      <td>2010-06-30</td>\n",
       "      <td>milesmary@example.org</td>\n",
       "      <td>7635554079</td>\n",
       "      <td>31583 Eric Mill Suite 677, Riveraton, OK 07085</td>\n",
       "      <td>14</td>\n",
       "    </tr>\n",
       "    <tr>\n",
       "      <th>2</th>\n",
       "      <td>134</td>\n",
       "      <td>David Anderson</td>\n",
       "      <td>junior data analyst</td>\n",
       "      <td>Excel</td>\n",
       "      <td>1992-01-14</td>\n",
       "      <td>2006-05-25</td>\n",
       "      <td>ajones@example.net</td>\n",
       "      <td>7248990763041</td>\n",
       "      <td>PSC 4715, Box 9334, APO AA 03780</td>\n",
       "      <td>18</td>\n",
       "    </tr>\n",
       "    <tr>\n",
       "      <th>3</th>\n",
       "      <td>295</td>\n",
       "      <td>Tyler Allen</td>\n",
       "      <td>senior software engineer</td>\n",
       "      <td>DevOps</td>\n",
       "      <td>1965-09-24</td>\n",
       "      <td>2008-11-07</td>\n",
       "      <td>dianamontes@example.net</td>\n",
       "      <td>3927339776</td>\n",
       "      <td>2816 Stephen Island Suite 455, Sarahborough, S...</td>\n",
       "      <td>15</td>\n",
       "    </tr>\n",
       "    <tr>\n",
       "      <th>4</th>\n",
       "      <td>432</td>\n",
       "      <td>Trevor Torres</td>\n",
       "      <td>senior software engineer</td>\n",
       "      <td>DevOps</td>\n",
       "      <td>1972-03-03</td>\n",
       "      <td>2019-09-15</td>\n",
       "      <td>devon53@example.org</td>\n",
       "      <td>17078655738</td>\n",
       "      <td>742 Perez Stream Apt. 654, Rodriguezville, IN ...</td>\n",
       "      <td>5</td>\n",
       "    </tr>\n",
       "  </tbody>\n",
       "</table>\n",
       "</div>"
      ],
      "text/plain": [
       "   employee_id   employee_name              current_role  \\\n",
       "0          254   Brian Jackson      senior data engineer   \n",
       "1          219    Mark Nielsen     senior data scientist   \n",
       "2          134  David Anderson       junior data analyst   \n",
       "3          295     Tyler Allen  senior software engineer   \n",
       "4          432   Trevor Torres  senior software engineer   \n",
       "\n",
       "                        skills dateofbirth dateofjoining  \\\n",
       "0                   Data Lakes  1960-03-19    2022-02-16   \n",
       "1  Natural Language Processing  1985-06-05    2010-06-30   \n",
       "2                        Excel  1992-01-14    2006-05-25   \n",
       "3                       DevOps  1965-09-24    2008-11-07   \n",
       "4                       DevOps  1972-03-03    2019-09-15   \n",
       "\n",
       "                      email  mobile_number  \\\n",
       "0  georgeangela@example.net  7698203225835   \n",
       "1     milesmary@example.org     7635554079   \n",
       "2        ajones@example.net  7248990763041   \n",
       "3   dianamontes@example.net     3927339776   \n",
       "4       devon53@example.org    17078655738   \n",
       "\n",
       "                                             Address  yearofexperience  \n",
       "0  715 Cunningham Forges Apt. 824, West Brandonsi...                 2  \n",
       "1     31583 Eric Mill Suite 677, Riveraton, OK 07085                14  \n",
       "2                   PSC 4715, Box 9334, APO AA 03780                18  \n",
       "3  2816 Stephen Island Suite 455, Sarahborough, S...                15  \n",
       "4  742 Perez Stream Apt. 654, Rodriguezville, IN ...                 5  "
      ]
     },
     "execution_count": 67,
     "metadata": {},
     "output_type": "execute_result"
    }
   ],
   "source": [
    "employee.head()"
   ]
  },
  {
   "cell_type": "code",
   "execution_count": 68,
   "metadata": {},
   "outputs": [],
   "source": [
    "employee.to_csv(\"prep_employee.csv\", index=False)"
   ]
  },
  {
   "cell_type": "code",
   "execution_count": 69,
   "metadata": {},
   "outputs": [
    {
     "data": {
      "text/plain": [
       "<bound method NDFrame.head of      employee_id    employee_name              current_role  \\\n",
       "0            254    Brian Jackson      senior data engineer   \n",
       "1            219     Mark Nielsen     senior data scientist   \n",
       "2            134   David Anderson       junior data analyst   \n",
       "3            295      Tyler Allen  senior software engineer   \n",
       "4            432    Trevor Torres  senior software engineer   \n",
       "..           ...              ...                       ...   \n",
       "495           63   Cynthia Knight  senior software engineer   \n",
       "496          249       Paul Myers       senior data analyst   \n",
       "497          274     James Hanson      senior data engineer   \n",
       "498          224  Shelly Davidson       senior data analyst   \n",
       "499           33     Joseph Jones      senior data engineer   \n",
       "\n",
       "                          skills dateofbirth dateofjoining  \\\n",
       "0                     Data Lakes  1960-03-19    2022-02-16   \n",
       "1    Natural Language Processing  1985-06-05    2010-06-30   \n",
       "2                          Excel  1992-01-14    2006-05-25   \n",
       "3                         DevOps  1965-09-24    2008-11-07   \n",
       "4                         DevOps  1972-03-03    2019-09-15   \n",
       "..                           ...         ...           ...   \n",
       "495              Cloud Computing  1955-04-27    2019-04-12   \n",
       "496                   Statistics  1992-01-22    2019-01-18   \n",
       "497                   Data Lakes  1974-11-29    2012-01-11   \n",
       "498                   Statistics  1960-08-11    2019-09-20   \n",
       "499                       Hadoop  1974-06-22    2021-01-20   \n",
       "\n",
       "                        email   mobile_number  \\\n",
       "0    georgeangela@example.net   7698203225835   \n",
       "1       milesmary@example.org      7635554079   \n",
       "2          ajones@example.net   7248990763041   \n",
       "3     dianamontes@example.net      3927339776   \n",
       "4         devon53@example.org     17078655738   \n",
       "..                        ...             ...   \n",
       "495       hduncan@example.com   4253450321783   \n",
       "496   elizabeth51@example.org      9315120550   \n",
       "497      sherry77@example.org  25193045636058   \n",
       "498         krice@example.com   2839991301035   \n",
       "499  josephpeters@example.com   7463005329845   \n",
       "\n",
       "                                               Address  yearofexperience  \n",
       "0    715 Cunningham Forges Apt. 824, West Brandonsi...                 2  \n",
       "1       31583 Eric Mill Suite 677, Riveraton, OK 07085                14  \n",
       "2                     PSC 4715, Box 9334, APO AA 03780                18  \n",
       "3    2816 Stephen Island Suite 455, Sarahborough, S...                15  \n",
       "4    742 Perez Stream Apt. 654, Rodriguezville, IN ...                 5  \n",
       "..                                                 ...               ...  \n",
       "495              892 Knight Cove, West Robin, VI 52380                 5  \n",
       "496  104 Pamela Highway Apt. 476, Terrymouth, IA 14098                 5  \n",
       "497  54951 Edward Fort Suite 010, Hansonberg, NY 80756                12  \n",
       "498  26293 Adam Centers Apt. 353, Josephtown, WI 16753                 5  \n",
       "499                   PSC 0049, Box 6326, APO AP 91158                 3  \n",
       "\n",
       "[500 rows x 10 columns]>"
      ]
     },
     "execution_count": 69,
     "metadata": {},
     "output_type": "execute_result"
    }
   ],
   "source": [
    "df= pd.read_csv('prep_employee.csv')\n",
    "df.head"
   ]
  },
  {
   "cell_type": "code",
   "execution_count": 70,
   "metadata": {},
   "outputs": [],
   "source": [
    "employee.to_csv(\"prep_employee.csv\", index=False)"
   ]
  },
  {
   "cell_type": "code",
   "execution_count": null,
   "metadata": {},
   "outputs": [],
   "source": []
  },
  {
   "cell_type": "code",
   "execution_count": null,
   "metadata": {},
   "outputs": [],
   "source": []
  }
 ],
 "metadata": {
  "kernelspec": {
   "display_name": "Python 3",
   "language": "python",
   "name": "python3"
  },
  "language_info": {
   "codemirror_mode": {
    "name": "ipython",
    "version": 3
   },
   "file_extension": ".py",
   "mimetype": "text/x-python",
   "name": "python",
   "nbconvert_exporter": "python",
   "pygments_lexer": "ipython3",
   "version": "3.12.4"
  }
 },
 "nbformat": 4,
 "nbformat_minor": 2
}
